{
 "cells": [
  {
   "cell_type": "code",
   "execution_count": 28,
   "metadata": {},
   "outputs": [
    {
     "ename": "AttributeError",
     "evalue": "'Rectangle' object has no attribute 'func'",
     "output_type": "error",
     "traceback": [
      "\u001b[1;31m---------------------------------------------------------------------------\u001b[0m",
      "\u001b[1;31mAttributeError\u001b[0m                            Traceback (most recent call last)",
      "\u001b[1;32m~\\AppData\\Local\\Temp\\ipykernel_17548\\971842189.py\u001b[0m in \u001b[0;36m<module>\u001b[1;34m\u001b[0m\n\u001b[0;32m     31\u001b[0m \u001b[0mfunc\u001b[0m \u001b[1;33m=\u001b[0m \u001b[1;34mf\"do_{name}\"\u001b[0m\u001b[1;33m\u001b[0m\u001b[1;33m\u001b[0m\u001b[0m\n\u001b[0;32m     32\u001b[0m \u001b[1;33m\u001b[0m\u001b[0m\n\u001b[1;32m---> 33\u001b[1;33m \u001b[0mrectangle\u001b[0m\u001b[1;33m.\u001b[0m\u001b[0mfunc\u001b[0m\u001b[1;33m\u001b[0m\u001b[1;33m\u001b[0m\u001b[0m\n\u001b[0m\u001b[0;32m     34\u001b[0m \u001b[1;33m\u001b[0m\u001b[0m\n\u001b[0;32m     35\u001b[0m \u001b[0mrectangle\u001b[0m\u001b[1;33m.\u001b[0m\u001b[0msolve_for\u001b[0m\u001b[1;33m(\u001b[0m\u001b[1;34m'perimeter'\u001b[0m\u001b[1;33m)\u001b[0m\u001b[1;33m\u001b[0m\u001b[1;33m\u001b[0m\u001b[0m\n",
      "\u001b[1;31mAttributeError\u001b[0m: 'Rectangle' object has no attribute 'func'"
     ]
    }
   ],
   "source": [
    "import math\n",
    "\n",
    "class Rectangle:\n",
    "    length: int\n",
    "    width: int\n",
    "\n",
    "    def __init__(self, length: int, width: int):\n",
    "        self.length = length\n",
    "        self.width = width\n",
    "\n",
    "    def do_area(self):\n",
    "        area = self.length * self.width\n",
    "        print(f\"The area of the rectangle is: {area}\")\n",
    "\n",
    "    def do_perimeter(self):\n",
    "        perimeter = (self.length + self.width) * 2\n",
    "        print(f\"The perimeter of the rectangle is: {perimeter}\")\n",
    "\n",
    "    def do_diagonal(self):\n",
    "        diagonal = math.sqrt(self.length ** 2 + self.width ** 2)\n",
    "        print(f\"The diagonal of the rectangle is: {diagonal}\")\n",
    "\n",
    "    def solve_for(self, name: str):\n",
    "        do = f\"do_{name}\"\n",
    "        if hasattr(self, do) and callable(getattr(self, do)):\n",
    "            func = getattr(self, do)\n",
    "            func()\n",
    "\n",
    "rectangle = Rectangle(3, 5)\n",
    "\n",
    "func = f\"do_{name}\"\n",
    "\n",
    "rectangle.func\n",
    "\n",
    "rectangle.solve_for('perimeter')\n",
    "rectangle.solve_for('diagonal')"
   ]
  }
 ],
 "metadata": {
  "kernelspec": {
   "display_name": "base",
   "language": "python",
   "name": "python3"
  },
  "language_info": {
   "codemirror_mode": {
    "name": "ipython",
    "version": 3
   },
   "file_extension": ".py",
   "mimetype": "text/x-python",
   "name": "python",
   "nbconvert_exporter": "python",
   "pygments_lexer": "ipython3",
   "version": "3.7.5"
  },
  "orig_nbformat": 4
 },
 "nbformat": 4,
 "nbformat_minor": 2
}
